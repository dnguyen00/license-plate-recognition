{
 "cells": [
  {
   "cell_type": "code",
   "execution_count": 37,
   "metadata": {},
   "outputs": [],
   "source": [
    "import cv2\n",
    "import numpy as np\n",
    "from matplotlib import pyplot as plt\n",
    "\n",
    "def extract_license_plate(image_path):\n",
    "\n",
    "    image = cv2.imread(image_path)\n",
    "    \n",
    "    # Convert image to grayscale\n",
    "    gray = cv2.cvtColor(image, cv2.COLOR_BGR2GRAY)\n",
    "    \n",
    "    # Apply GaussianBlur to reduce noise and help with edge detection\n",
    "    blurred = cv2.GaussianBlur(gray, (5, 5), 0)\n",
    "    \n",
    "    # Canny edge detection\n",
    "    edges = cv2.Canny(blurred, 50, 150)\n",
    "    \n",
    "    # Find contours\n",
    "    contours, _ = cv2.findContours(edges.copy(), cv2.RETR_EXTERNAL, cv2.CHAIN_APPROX_SIMPLE)\n",
    "    \n",
    "    # Filter to find potential license plate regions\n",
    "    min_area = 500\n",
    "    potential_plates = [cnt for cnt in contours if cv2.contourArea(cnt) > min_area]\n",
    "    \n",
    "    # Sort by area in descending order\n",
    "    potential_plates = sorted(potential_plates, key=cv2.contourArea, reverse=True)[:5]\n",
    "    \n",
    "    for plate in potential_plates:\n",
    "        epsilon = 0.02 * cv2.arcLength(plate, True)\n",
    "        approx = cv2.approxPolyDP(plate, epsilon, True)\n",
    "        \n",
    "        if len(approx) == 4:\n",
    "            # Draw the rectangular bounds\n",
    "            cv2.drawContours(image, [approx], -1, (0, 255, 0), 2)\n",
    "            \n",
    "            # Extract ROI within rectangular bounds\n",
    "            x, y, w, h = cv2.boundingRect(plate)\n",
    "            license_plate_roi = image[y:y + h, x:x + w]\n",
    "            \n",
    "            # Display license plate\n",
    "            plt.imshow(image, license_plate_roi)"
   ]
  }
 ],
 "metadata": {
  "kernelspec": {
   "display_name": "Python 3",
   "language": "python",
   "name": "python3"
  },
  "language_info": {
   "codemirror_mode": {
    "name": "ipython",
    "version": 3
   },
   "file_extension": ".py",
   "mimetype": "text/x-python",
   "name": "python",
   "nbconvert_exporter": "python",
   "pygments_lexer": "ipython3",
   "version": "3.11.5"
  }
 },
 "nbformat": 4,
 "nbformat_minor": 2
}
